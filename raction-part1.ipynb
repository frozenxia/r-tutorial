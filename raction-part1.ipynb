{
 "cells": [
  {
   "cell_type": "code",
   "execution_count": 3,
   "metadata": {},
   "outputs": [],
   "source": [
    "help(range)"
   ]
  },
  {
   "cell_type": "code",
   "execution_count": 5,
   "metadata": {},
   "outputs": [],
   "source": [
    "a <- c('a','b','c')"
   ]
  },
  {
   "cell_type": "code",
   "execution_count": 26,
   "metadata": {},
   "outputs": [
    {
     "data": {
      "text/html": [
       "<ol class=list-inline>\n",
       "\t<li>'b'</li>\n",
       "\t<li>'c'</li>\n",
       "\t<li>NA</li>\n",
       "</ol>\n"
      ],
      "text/latex": [
       "\\begin{enumerate*}\n",
       "\\item 'b'\n",
       "\\item 'c'\n",
       "\\item NA\n",
       "\\end{enumerate*}\n"
      ],
      "text/markdown": [
       "1. 'b'\n",
       "2. 'c'\n",
       "3. NA\n",
       "\n",
       "\n"
      ],
      "text/plain": [
       "[1] \"b\" \"c\" NA "
      ]
     },
     "metadata": {},
     "output_type": "display_data"
    }
   ],
   "source": [
    "a[c(2:4)]"
   ]
  },
  {
   "cell_type": "code",
   "execution_count": 24,
   "metadata": {},
   "outputs": [],
   "source": [
    "b<-c(2:4)"
   ]
  },
  {
   "cell_type": "code",
   "execution_count": 25,
   "metadata": {},
   "outputs": [
    {
     "data": {
      "text/html": [
       "<ol class=list-inline>\n",
       "\t<li>2</li>\n",
       "\t<li>3</li>\n",
       "\t<li>4</li>\n",
       "</ol>\n"
      ],
      "text/latex": [
       "\\begin{enumerate*}\n",
       "\\item 2\n",
       "\\item 3\n",
       "\\item 4\n",
       "\\end{enumerate*}\n"
      ],
      "text/markdown": [
       "1. 2\n",
       "2. 3\n",
       "3. 4\n",
       "\n",
       "\n"
      ],
      "text/plain": [
       "[1] 2 3 4"
      ]
     },
     "metadata": {},
     "output_type": "display_data"
    }
   ],
   "source": [
    "b"
   ]
  },
  {
   "cell_type": "code",
   "execution_count": 29,
   "metadata": {},
   "outputs": [
    {
     "data": {
      "text/html": [],
      "text/latex": [],
      "text/markdown": [],
      "text/plain": [
       "character(0)"
      ]
     },
     "metadata": {},
     "output_type": "display_data"
    }
   ],
   "source": [
    "a[c(0)]"
   ]
  },
  {
   "cell_type": "code",
   "execution_count": 34,
   "metadata": {},
   "outputs": [],
   "source": [
    "y<-matrix(1:20,ncol = 4,nrow = 5)"
   ]
  },
  {
   "cell_type": "code",
   "execution_count": 44,
   "metadata": {},
   "outputs": [
    {
     "data": {
      "text/html": [
       "2"
      ],
      "text/latex": [
       "2"
      ],
      "text/markdown": [
       "2"
      ],
      "text/plain": [
       "[1] 2"
      ]
     },
     "metadata": {},
     "output_type": "display_data"
    }
   ],
   "source": [
    "y[2]"
   ]
  },
  {
   "cell_type": "code",
   "execution_count": 56,
   "metadata": {},
   "outputs": [
    {
     "data": {
      "image/png": "[encoded data removed]",
      "text/plain": [
       "plot without title"
      ]
     },
     "metadata": {},
     "output_type": "display_data"
    }
   ],
   "source": [
    "dose <- c(20,30,40,45,60)\n",
    "drugA <- c(16,20,27,40,60)\n",
    "drugB <- c(15,18,25,31,40)\n",
    "\n",
    "\n",
    "plot(dose,drugA,type='S')\n",
    "lines(dose,drugB,type='b')\n",
    "lines(dose,drugA,type='l')"
   ]
  },
  {
   "cell_type": "code",
   "execution_count": 46,
   "metadata": {},
   "outputs": [],
   "source": [
    "help(plot)"
   ]
  },
  {
   "cell_type": "code",
   "execution_count": 1,
   "metadata": {},
   "outputs": [],
   "source": [
    "cat(\"model\n",
    "    {\n",
    "\n",
    "    for ( i in 1:N ) {\n",
    "    \n",
    "    P[i] <- 1/V[i]\n",
    "    \n",
    "    y[i] ~ dnorm( d, P[i] )\n",
    "\n",
    "    }\n",
    "\n",
    "    ### Define the priors\n",
    "    d ~ dnorm( 0, 0.00001 )\n",
    "\n",
    "    ### Transform the ln(OR) to OR\n",
    "    OR <- exp( d )\n",
    "\n",
    "    }\", file=\"aspirinFE.txt\")"
   ]
  },
  {
   "cell_type": "code",
   "execution_count": 2,
   "metadata": {},
   "outputs": [
    {
     "name": "stderr",
     "output_type": "stream",
     "text": [
      "Loading required package: coda\n",
      "Linked to JAGS 4.1.0\n",
      "Loaded modules: basemod,bugs\n"
     ]
    }
   ],
   "source": [
    "library(rjags)\n",
    "library(coda)"
   ]
  },
  {
   "cell_type": "code",
   "execution_count": 4,
   "metadata": {},
   "outputs": [
    {
     "data": {
      "text/html": [
       "<table>\n",
       "<thead><tr><th scope=col>N</th><th scope=col>y</th><th scope=col>V</th></tr></thead>\n",
       "<tbody>\n",
       "\t<tr><td>1         </td><td> 0.3289011</td><td>0.0388957 </td></tr>\n",
       "\t<tr><td>2         </td><td> 0.3845458</td><td>0.0411673 </td></tr>\n",
       "\t<tr><td>3         </td><td> 0.2195622</td><td>0.0204915 </td></tr>\n",
       "\t<tr><td>4         </td><td> 0.2222206</td><td>0.0647646 </td></tr>\n",
       "\t<tr><td>5         </td><td> 0.2254672</td><td>0.0351996 </td></tr>\n",
       "\t<tr><td>6         </td><td>-0.1246363</td><td>0.0096167 </td></tr>\n",
       "</tbody>\n",
       "</table>\n"
      ],
      "text/latex": [
       "\\begin{tabular}{r|lll}\n",
       " N & y & V\\\\\n",
       "\\hline\n",
       "\t 1          &  0.3289011 & 0.0388957 \\\\\n",
       "\t 2          &  0.3845458 & 0.0411673 \\\\\n",
       "\t 3          &  0.2195622 & 0.0204915 \\\\\n",
       "\t 4          &  0.2222206 & 0.0647646 \\\\\n",
       "\t 5          &  0.2254672 & 0.0351996 \\\\\n",
       "\t 6          & -0.1246363 & 0.0096167 \\\\\n",
       "\\end{tabular}\n"
      ],
      "text/markdown": [
       "\n",
       "N | y | V | \n",
       "|---|---|---|---|---|---|\n",
       "| 1          |  0.3289011 | 0.0388957  | \n",
       "| 2          |  0.3845458 | 0.0411673  | \n",
       "| 3          |  0.2195622 | 0.0204915  | \n",
       "| 4          |  0.2222206 | 0.0647646  | \n",
       "| 5          |  0.2254672 | 0.0351996  | \n",
       "| 6          | -0.1246363 | 0.0096167  | \n",
       "\n",
       "\n"
      ],
      "text/plain": [
       "  N y          V        \n",
       "1 1  0.3289011 0.0388957\n",
       "2 2  0.3845458 0.0411673\n",
       "3 3  0.2195622 0.0204915\n",
       "4 4  0.2222206 0.0647646\n",
       "5 5  0.2254672 0.0351996\n",
       "6 6 -0.1246363 0.0096167"
      ]
     },
     "metadata": {},
     "output_type": "display_data"
    }
   ],
   "source": [
    "data <- read.csv('data1.csv')\n",
    "head(data)"
   ]
  },
  {
   "cell_type": "code",
   "execution_count": 5,
   "metadata": {},
   "outputs": [],
   "source": [
    "N <- length(data$y)"
   ]
  },
  {
   "cell_type": "code",
   "execution_count": 6,
   "metadata": {},
   "outputs": [],
   "source": [
    "dat <- list(\"N\" = N,\"y\" = data$y,\"V\" = data$V)\n",
    "inits <- list(d=0.0)"
   ]
  },
  {
   "cell_type": "code",
   "execution_count": 8,
   "metadata": {},
   "outputs": [
    {
     "name": "stdout",
     "output_type": "stream",
     "text": [
      "Compiling model graph\n",
      "   Resolving undeclared variables\n",
      "   Allocating nodes\n",
      "Graph information:\n",
      "   Observed stochastic nodes: 7\n",
      "   Unobserved stochastic nodes: 1\n",
      "   Total graph size: 33\n",
      "\n",
      "Initializing model\n",
      "\n"
     ]
    }
   ],
   "source": [
    "jags.m <- jags.model(file = 'aspirinFE.txt' , data = dat, inits = inits, n.chains = 1, n.adapt = 500)\n"
   ]
  },
  {
   "cell_type": "code",
   "execution_count": 9,
   "metadata": {},
   "outputs": [],
   "source": [
    "params <- c(\"d\", \"OR\")"
   ]
  },
  {
   "cell_type": "code",
   "execution_count": 10,
   "metadata": {},
   "outputs": [],
   "source": [
    "samps <- coda.samples( jags.m, params, n.iter=10000 )"
   ]
  },
  {
   "cell_type": "code",
   "execution_count": 11,
   "metadata": {},
   "outputs": [
    {
     "data": {
      "text/plain": [
       "\n",
       "Iterations = 1:10000\n",
       "Thinning interval = 1 \n",
       "Number of chains = 1 \n",
       "Sample size per chain = 10000 \n",
       "\n",
       "1. Empirical mean and standard deviation for each variable,\n",
       "   plus standard error of the mean:\n",
       "\n",
       "     Mean      SD  Naive SE Time-series SE\n",
       "OR 1.1153 0.03702 0.0003702      0.0003702\n",
       "d  0.1086 0.03319 0.0003319      0.0003319\n",
       "\n",
       "2. Quantiles for each variable:\n",
       "\n",
       "      2.5%     25%    50%   75%  97.5%\n",
       "OR 1.04550 1.08966 1.1148 1.140 1.1899\n",
       "d  0.04449 0.08587 0.1087 0.131 0.1739\n"
      ]
     },
     "metadata": {},
     "output_type": "display_data"
    }
   ],
   "source": [
    "summary(samps)"
   ]
  },
  {
   "cell_type": "code",
   "execution_count": 12,
   "metadata": {},
   "outputs": [
    {
     "data": {
      "text/plain": [
       "\n",
       "Iterations = 5001:10000\n",
       "Thinning interval = 1 \n",
       "Number of chains = 1 \n",
       "Sample size per chain = 5000 \n",
       "\n",
       "1. Empirical mean and standard deviation for each variable,\n",
       "   plus standard error of the mean:\n",
       "\n",
       "     Mean      SD  Naive SE Time-series SE\n",
       "OR 1.1152 0.03734 0.0005280      0.0005280\n",
       "d  0.1085 0.03348 0.0004734      0.0004734\n",
       "\n",
       "2. Quantiles for each variable:\n",
       "\n",
       "      2.5%     25%    50%    75%  97.5%\n",
       "OR 1.04550 1.08951 1.1146 1.1402 1.1906\n",
       "d  0.04449 0.08573 0.1085 0.1312 0.1745\n"
      ]
     },
     "metadata": {},
     "output_type": "display_data"
    }
   ],
   "source": [
    "summary(window(samps, start=5001)) "
   ]
  },
  {
   "cell_type": "code",
   "execution_count": 13,
   "metadata": {},
   "outputs": [
    {
     "data": {
      "image/png": "[encoded data removed]",
      "text/plain": [
       "Plot with title “Density of d”"
      ]
     },
     "metadata": {},
     "output_type": "display_data"
    }
   ],
   "source": [
    "plot(samps)"
   ]
  },
  {
   "cell_type": "code",
   "execution_count": 14,
   "metadata": {},
   "outputs": [],
   "source": [
    "help(gamma)"
   ]
  },
  {
   "cell_type": "code",
   "execution_count": 18,
   "metadata": {},
   "outputs": [
    {
     "data": {
      "text/html": [
       "0.992695447196151"
      ],
      "text/latex": [
       "0.992695447196151"
      ],
      "text/markdown": [
       "0.992695447196151"
      ],
      "text/plain": [
       "[1] 0.9926954"
      ]
     },
     "metadata": {},
     "output_type": "display_data"
    }
   ],
   "source": [
    "dgamma(0.001,0.001)"
   ]
  },
  {
   "cell_type": "code",
   "execution_count": 20,
   "metadata": {},
   "outputs": [],
   "source": [
    "# samps"
   ]
  },
  {
   "cell_type": "code",
   "execution_count": null,
   "metadata": {},
   "outputs": [],
   "source": []
  }
 ],
 "metadata": {
  "kernelspec": {
   "display_name": "R",
   "language": "R",
   "name": "ir"
  },
  "language_info": {
   "codemirror_mode": "r",
   "file_extension": ".r",
   "mimetype": "text/x-r-source",
   "name": "R",
   "pygments_lexer": "r",
   "version": "3.2.3"
  }
 },
 "nbformat": 4,
 "nbformat_minor": 2
}
