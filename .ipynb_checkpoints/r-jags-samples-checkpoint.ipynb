{
 "cells": [
  {
   "cell_type": "markdown",
   "metadata": {},
   "source": [
    "## Inference on Normally Distributed Data\n",
    "\n",
    "we try to infer the mu and tau of the distribution from the data"
   ]
  },
  {
   "cell_type": "code",
   "execution_count": null,
   "metadata": {},
   "outputs": [],
   "source": [
    "N <- 1000\n",
    "x <- rnorm(N,0,5)"
   ]
  },
  {
   "cell_type": "code",
   "execution_count": 3,
   "metadata": {},
   "outputs": [],
   "source": [
    "write.table(x,file = 'example01.data',row.names = FALSE , col.names = FALSE)"
   ]
  },
  {
   "cell_type": "code",
   "execution_count": 6,
   "metadata": {},
   "outputs": [],
   "source": [
    "cat(\"\n",
    " model{\n",
    "   for (i in 1:N){\n",
    "      x[i] ~ dnorm(mu,tau)\n",
    "   }\n",
    "   mu ~ dnorm(0,0.0001)\n",
    "   tau <- pow(sigma,2)\n",
    "   sigma ~ dunif (0,100)\n",
    " }\n",
    "\n",
    "\",file = \"example01.model\")"
   ]
  },
  {
   "cell_type": "code",
   "execution_count": 11,
   "metadata": {},
   "outputs": [
    {
     "name": "stderr",
     "output_type": "stream",
     "text": [
      "Warning message in jags.model(\"example01.model\", data = list(x = x, N = N, n.chains = 4, :\n",
      "“Unused variable \"n.chains\" in data”Warning message in jags.model(\"example01.model\", data = list(x = x, N = N, n.chains = 4, :\n",
      "“Unused variable \"n.adapt\" in data”"
     ]
    },
    {
     "name": "stdout",
     "output_type": "stream",
     "text": [
      "Compiling model graph\n",
      "   Resolving undeclared variables\n",
      "   Allocating nodes\n",
      "Graph information:\n",
      "   Observed stochastic nodes: 1000\n",
      "   Unobserved stochastic nodes: 2\n",
      "   Total graph size: 1009\n",
      "\n",
      "Initializing model\n",
      "\n"
     ]
    },
    {
     "data": {
      "text/plain": [
       "$mu\n",
       "mcarray:\n",
       "[1] 0.120952\n",
       "\n",
       "Marginalizing over: iteration(1000),chain(1) \n",
       "\n",
       "$tau\n",
       "mcarray:\n",
       "[1] 0.03993654\n",
       "\n",
       "Marginalizing over: iteration(1000),chain(1) \n"
      ]
     },
     "metadata": {},
     "output_type": "display_data"
    }
   ],
   "source": [
    "library('rjags')\n",
    "\n",
    "jags <- jags.model('example01.model',data = list('x' = x, 'N' = N, n.chains =4, n.adapt = 100))\n",
    "\n",
    "update(jags,100)\n",
    "\n",
    "jags.samples(jags,c('mu','tau'),1000,type = 'trace')"
   ]
  },
  {
   "cell_type": "code",
   "execution_count": 8,
   "metadata": {},
   "outputs": [],
   "source": [
    "help(jags.samples)"
   ]
  },
  {
   "cell_type": "code",
   "execution_count": null,
   "metadata": {},
   "outputs": [],
   "source": []
  }
 ],
 "metadata": {
  "kernelspec": {
   "display_name": "R",
   "language": "R",
   "name": "ir"
  },
  "language_info": {
   "codemirror_mode": "r",
   "file_extension": ".r",
   "mimetype": "text/x-r-source",
   "name": "R",
   "pygments_lexer": "r",
   "version": "3.2.3"
  }
 },
 "nbformat": 4,
 "nbformat_minor": 2
}
